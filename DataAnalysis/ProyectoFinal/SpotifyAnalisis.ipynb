{
 "cells": [
  {
   "cell_type": "code",
   "execution_count": 1,
   "id": "b3c69ff3",
   "metadata": {},
   "outputs": [],
   "source": [
    "import pandas as pd"
   ]
  },
  {
   "cell_type": "markdown",
   "id": "d3a91974",
   "metadata": {},
   "source": [
    "\n",
    "## Cargar, limpiar y organizar los datos"
   ]
  },
  {
   "cell_type": "code",
   "execution_count": null,
   "id": "0721fba6",
   "metadata": {},
   "outputs": [],
   "source": [
    "artistas = pd.read_csv('../data/artists_es.csv')\n",
    "\n",
    "artistas.iloc[1000:1005]"
   ]
  },
  {
   "cell_type": "code",
   "execution_count": null,
   "id": "a1a52d7b",
   "metadata": {},
   "outputs": [],
   "source": [
    "artistas.shape"
   ]
  },
  {
   "cell_type": "code",
   "execution_count": null,
   "id": "2224417e",
   "metadata": {},
   "outputs": [],
   "source": [
    "artistas['generos'].iloc[1000:1005]"
   ]
  },
  {
   "cell_type": "code",
   "execution_count": null,
   "id": "e1cc64f7",
   "metadata": {},
   "outputs": [],
   "source": [
    "type(artistas['generos'].iloc[1002])"
   ]
  },
  {
   "cell_type": "markdown",
   "id": "581de2ad",
   "metadata": {},
   "source": [
    "La función $ast.literal\\_eval()$ interpreta un str que tenga alguno de los tipos de datos básicos de Python y lo convierte en el tipo de dato interpretado."
   ]
  },
  {
   "cell_type": "code",
   "execution_count": 6,
   "id": "5398ade3",
   "metadata": {},
   "outputs": [],
   "source": [
    "import ast\n",
    "artistas['generos'] = artistas['generos'].apply(lambda generos_str: ast.literal_eval(generos_str))"
   ]
  },
  {
   "cell_type": "code",
   "execution_count": null,
   "id": "06e47bc5",
   "metadata": {},
   "outputs": [],
   "source": [
    "type(artistas['generos'].iloc[1002])"
   ]
  },
  {
   "cell_type": "markdown",
   "id": "00d5d4b3",
   "metadata": {},
   "source": [
    "---"
   ]
  },
  {
   "cell_type": "code",
   "execution_count": null,
   "id": "8fa3ca4a",
   "metadata": {
    "scrolled": true
   },
   "outputs": [],
   "source": [
    "tracks = pd.read_csv('../data/tracks_es.csv')\n",
    "\n",
    "tracks.head()"
   ]
  },
  {
   "cell_type": "markdown",
   "id": "21f48a2d",
   "metadata": {},
   "source": [
    "Corrección de tipo de variable en las columans `artistas` y `id_artistas`."
   ]
  },
  {
   "cell_type": "code",
   "execution_count": 9,
   "id": "0860eb9b",
   "metadata": {},
   "outputs": [
    {
     "data": {
      "text/plain": [
       "(\"['Fernando Pessoa']\", \"['14jtPCOoNZwquk5wd9DxrY']\")"
      ]
     },
     "execution_count": 9,
     "metadata": {},
     "output_type": "execute_result"
    }
   ],
   "source": [
    "tracks['artistas'].iloc[50], tracks['id_artistas'].iloc[50]"
   ]
  },
  {
   "cell_type": "code",
   "execution_count": 10,
   "id": "855d5ddd",
   "metadata": {},
   "outputs": [
    {
     "data": {
      "text/plain": [
       "(str, str)"
      ]
     },
     "execution_count": 10,
     "metadata": {},
     "output_type": "execute_result"
    }
   ],
   "source": [
    "type(tracks['artistas'].iloc[50]), type(tracks['id_artistas'].iloc[50])"
   ]
  },
  {
   "cell_type": "markdown",
   "id": "12d2ada0",
   "metadata": {},
   "source": [
    "### Avance 1\n",
    "\n",
    "- Limpiando y ordenando los datos\n",
    "- Agregando columnas apartir de los datos de otras columnas"
   ]
  },
  {
   "cell_type": "code",
   "execution_count": 11,
   "id": "a2f37f37",
   "metadata": {},
   "outputs": [],
   "source": [
    "tracks['artistas'] = tracks['artistas'].apply(lambda artistas_str: ast.literal_eval(artistas_str))\n",
    "tracks['id_artistas'] = tracks['id_artistas'].apply(lambda artistas_str: ast.literal_eval(artistas_str))"
   ]
  },
  {
   "cell_type": "markdown",
   "id": "106271a2",
   "metadata": {},
   "source": [
    "### Agregando columna de año(year) de lanzamiento a partir de la columna fecha_lanzamiento "
   ]
  },
  {
   "cell_type": "code",
   "execution_count": null,
   "id": "2ea714c5",
   "metadata": {},
   "outputs": [],
   "source": [
    "tracks['year'] = tracks['fecha_lanzamiento'].apply(lambda fecha_lanzamiento: int(fecha_lanzamiento[:4]))\n",
    "\n",
    "# imprimos el nuevo dataframe con la nueva columna year\n",
    "tracks.head(5)"
   ]
  },
  {
   "cell_type": "markdown",
   "id": "500d666c",
   "metadata": {},
   "source": [
    "### filtrando por columnas"
   ]
  },
  {
   "cell_type": "code",
   "execution_count": null,
   "id": "e95470d3",
   "metadata": {},
   "outputs": [],
   "source": [
    "artistas.sample(5)\n"
   ]
  },
  {
   "cell_type": "code",
   "execution_count": null,
   "id": "ec92f955",
   "metadata": {},
   "outputs": [],
   "source": [
    "tracks.sample(5)"
   ]
  },
  {
   "cell_type": "code",
   "execution_count": null,
   "id": "d8583189",
   "metadata": {},
   "outputs": [],
   "source": [
    "artistas['generos'].explode().value_counts().head(20)"
   ]
  },
  {
   "cell_type": "code",
   "execution_count": null,
   "id": "f4b9af74",
   "metadata": {},
   "outputs": [],
   "source": [
    "GENERO_ELEGIDO = 'harp'\n",
    "\n",
    "artistas['genero en lista'] = artistas['generos'].apply(lambda generos: GENERO_ELEGIDO in generos)\n",
    "artistas.head(20)"
   ]
  },
  {
   "cell_type": "markdown",
   "id": "057a47f4",
   "metadata": {},
   "source": [
    "### filtrando los artistas con el genero escogido"
   ]
  },
  {
   "cell_type": "code",
   "execution_count": null,
   "id": "c1434354",
   "metadata": {},
   "outputs": [],
   "source": [
    "filtro = artistas['genero en lista'] == True\n",
    "\n",
    "select_artistas = artistas.loc[filtro]\n",
    "select_artistas.sample(10)"
   ]
  },
  {
   "cell_type": "code",
   "execution_count": 18,
   "id": "91a69541",
   "metadata": {},
   "outputs": [
    {
     "data": {
      "text/plain": [
       "(82, 6)"
      ]
     },
     "execution_count": 18,
     "metadata": {},
     "output_type": "execute_result"
    }
   ],
   "source": [
    "select_artistas.shape"
   ]
  },
  {
   "cell_type": "code",
   "execution_count": 19,
   "id": "6594a7e6",
   "metadata": {},
   "outputs": [
    {
     "data": {
      "text/plain": [
       "82"
      ]
     },
     "execution_count": 19,
     "metadata": {},
     "output_type": "execute_result"
    }
   ],
   "source": [
    "lista_artistas_ids = select_artistas['id'].tolist()\n",
    "len(lista_artistas_ids)"
   ]
  },
  {
   "cell_type": "code",
   "execution_count": 20,
   "id": "cb0e0409",
   "metadata": {},
   "outputs": [
    {
     "data": {
      "text/plain": [
       "(46, 22)"
      ]
     },
     "execution_count": 20,
     "metadata": {},
     "output_type": "execute_result"
    }
   ],
   "source": [
    "# Agregando la nueva columnas a tracks con los id de los artistas validos\n",
    "tracks['id_artistas_validos'] = tracks['id_artistas'].apply(lambda artista: any(artista in lista_artistas_ids for artista in artista))\n",
    "\n",
    "tracks_validos = tracks.loc[tracks['id_artistas_validos']]\n",
    "tracks_validos.shape"
   ]
  },
  {
   "cell_type": "code",
   "execution_count": null,
   "id": "adb0e35c",
   "metadata": {},
   "outputs": [],
   "source": [
    "tracks_validos.head()"
   ]
  },
  {
   "cell_type": "code",
   "execution_count": null,
   "id": "4870fe3d",
   "metadata": {},
   "outputs": [],
   "source": [
    "# obteniendo el artista principal de cada track\n",
    "\n",
    "tracks_validos['artista principal'] = tracks_validos['artistas'].apply(lambda artistas: artistas[0])\n",
    "tracks_validos.head()"
   ]
  },
  {
   "cell_type": "markdown",
   "id": "6e20e003",
   "metadata": {},
   "source": [
    "## Filtrando columnas de los tracks validos\n",
    "\n",
    "- Filtrando solo las columnas de interes\n",
    "\n",
    "### Avance 2"
   ]
  },
  {
   "cell_type": "code",
   "execution_count": 23,
   "id": "5a64a8d2",
   "metadata": {},
   "outputs": [],
   "source": [
    "tracks_validos = tracks_validos.drop(columns=['id',   'explicita', 'artistas',  'id_artistas',  'fecha_lanzamiento', 'key', 'modo', 'valencia', 'tempo',  'compas', 'id_artistas_validos'])"
   ]
  },
  {
   "cell_type": "markdown",
   "id": "ca7c87a9",
   "metadata": {},
   "source": [
    "- Visualizando el nuevo dataframe sin las columnas de no interes"
   ]
  },
  {
   "cell_type": "code",
   "execution_count": null,
   "id": "df253ab8",
   "metadata": {},
   "outputs": [],
   "source": [
    "tracks_validos.head()"
   ]
  },
  {
   "cell_type": "markdown",
   "id": "f7d10729",
   "metadata": {},
   "source": [
    "## Agrupaciones de registros"
   ]
  },
  {
   "cell_type": "code",
   "execution_count": null,
   "id": "2b30df96",
   "metadata": {},
   "outputs": [],
   "source": [
    "# promedio \n",
    "\n",
    "tracks_validos[['nombre', 'popularidad', 'duracion_ms']].groupby('nombre').agg({\n",
    "    'popularidad': 'mean',\n",
    "    'duracion_ms': 'sum'\n",
    "})"
   ]
  },
  {
   "cell_type": "code",
   "execution_count": null,
   "id": "c6b6ff3f",
   "metadata": {},
   "outputs": [],
   "source": [
    "# Tablas dinamicas\n",
    "tracks_validos.pivot_table(index=['nombre', 'popularidad'],\n",
    "                           values='duracion_ms',\n",
    "                           aggfunc='mean')\n"
   ]
  },
  {
   "cell_type": "markdown",
   "id": "384b13f9",
   "metadata": {},
   "source": [
    "## Avance 3"
   ]
  },
  {
   "cell_type": "code",
   "execution_count": null,
   "id": "b3c1615c",
   "metadata": {},
   "outputs": [],
   "source": [
    "\n",
    "# Seleccionando los artistas con mas popularidad\n",
    "\n",
    "artistas_populares = tracks_validos[['artista principal', 'popularidad']].groupby('artista principal').max().sort_values(\n",
    "    by='popularidad', ascending=False\n",
    ").head().reset_index()\n",
    "\n",
    "print('Top artistas populares')\n",
    "artistas_populares"
   ]
  },
  {
   "cell_type": "code",
   "execution_count": null,
   "id": "be7b5c5d",
   "metadata": {},
   "outputs": [],
   "source": [
    "# almacenando en una lista los nombres de los artistas populares\n",
    "list_artistas_plot = artistas_populares['artista principal'].tolist()\n",
    "list_artistas_plot"
   ]
  },
  {
   "cell_type": "code",
   "execution_count": null,
   "id": "9b441ca3",
   "metadata": {},
   "outputs": [],
   "source": [
    "tracks_plot = tracks_validos.loc[tracks_validos['artista principal'].isin(list_artistas_plot)]\n",
    "tracks_plot = tracks_plot.loc[tracks_plot['year'] > 1970] #al tratarse de musica clasica se adapto el filtro del year\n",
    "tracks_plot.shape"
   ]
  },
  {
   "cell_type": "code",
   "execution_count": null,
   "id": "b4fda512",
   "metadata": {},
   "outputs": [],
   "source": [
    "# midiendo la popularidad promedio de los artistas seleccionados\n",
    "tracks_plot[['artista principal', 'popularidad']].groupby('artista principal').mean()"
   ]
  },
  {
   "cell_type": "markdown",
   "id": "3cd11f79",
   "metadata": {},
   "source": [
    "## creando tabla dinamica con artista y year con el promedio de la popularidad"
   ]
  },
  {
   "cell_type": "code",
   "execution_count": null,
   "id": "8c439f9a",
   "metadata": {},
   "outputs": [],
   "source": [
    "tabla_popularidad = tracks_validos.pivot_table(index=['artista principal', 'year'],\n",
    "                                               values='popularidad',\n",
    "                                               aggfunc='mean')\n",
    "\n",
    "tabla_popularidad"
   ]
  },
  {
   "cell_type": "markdown",
   "id": "1b5f0547",
   "metadata": {},
   "source": [
    "## Visualizacion de datos"
   ]
  }
 ],
 "metadata": {
  "kernelspec": {
   "display_name": "Python 3",
   "language": "python",
   "name": "python3"
  },
  "language_info": {
   "codemirror_mode": {
    "name": "ipython",
    "version": 3
   },
   "file_extension": ".py",
   "mimetype": "text/x-python",
   "name": "python",
   "nbconvert_exporter": "python",
   "pygments_lexer": "ipython3",
   "version": "3.10.0"
  }
 },
 "nbformat": 4,
 "nbformat_minor": 5
}
